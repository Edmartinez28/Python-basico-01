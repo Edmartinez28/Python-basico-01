{
 "cells": [
  {
   "cell_type": "code",
   "execution_count": null,
   "id": "adcbd8c1",
   "metadata": {},
   "outputs": [],
   "source": [
    "nombre = input(\"Ingrese nombre del persona: \")\n",
    "\n",
    "edad = int(input(\"Ingrese edad de persona: \"))\n",
    "\n",
    "sueldo = float(input(\"Ingrese el sueldo de la persona: \"))\n",
    "                    \n",
    "mensajeFinal = \"Nombre:%s\\nEdad:%d\\nSueldo:%.2f\\n\" % (nombre, \n",
    "        edad, sueldo)\n",
    "\n",
    "print(mensajeFinal)"
   ]
  },
  {
   "cell_type": "code",
   "execution_count": null,
   "id": "b3cc25af",
   "metadata": {},
   "outputs": [],
   "source": []
  }
 ],
 "metadata": {
  "kernelspec": {
   "display_name": "Python 3",
   "language": "python",
   "name": "python3"
  },
  "language_info": {
   "codemirror_mode": {
    "name": "ipython",
    "version": 3
   },
   "file_extension": ".py",
   "mimetype": "text/x-python",
   "name": "python",
   "nbconvert_exporter": "python",
   "pygments_lexer": "ipython3",
   "version": "3.9.2"
  }
 },
 "nbformat": 4,
 "nbformat_minor": 5
}
